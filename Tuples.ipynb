{
 "cells": [
  {
   "cell_type": "code",
   "execution_count": 1,
   "metadata": {},
   "outputs": [],
   "source": [
    "phonebook = {\n",
    "\"John\" : 938477566,\n",
    "\"Jack\" : 938377264,\n",
    "\"Jill\" : 947662781\n",
    "}\n"
   ]
  },
  {
   "cell_type": "code",
   "execution_count": 2,
   "metadata": {},
   "outputs": [
    {
     "data": {
      "text/plain": [
       "{'John': 938477566, 'Jack': 938377264, 'Jake': 938273443}"
      ]
     },
     "execution_count": 2,
     "metadata": {},
     "output_type": "execute_result"
    }
   ],
   "source": [
    "phonebook.pop(\"Jill\")\n",
    "phonebook.update({\"Jake\":938273443})\n",
    "phonebook"
   ]
  },
  {
   "cell_type": "code",
   "execution_count": 3,
   "metadata": {},
   "outputs": [
    {
     "name": "stdout",
     "output_type": "stream",
     "text": [
      "Last Name  -  Jackson\n",
      "First Name  -  Michael\n",
      "Date of birth  -  10.03.1955\n",
      "Email  -  m.json@gmail.com\n",
      "Gender  -  Male\n",
      "Country or residence  -  USA\n"
     ]
    }
   ],
   "source": [
    "client = {\n",
    "    \"Last Name\" : \"Jackson\",\n",
    "    \"First Name\": \"Michael\",\n",
    "    \"Date of birth\" : \"10.03.1955\",\n",
    "    \"Email\" : \"m.json@gmail.com\",\n",
    "    \"Gender\" : \"Male\",\n",
    "    \"Country or residence\": \"USA\",\n",
    "}\n",
    "for key,value in client.items():\n",
    "    print (key,\" - \", value)"
   ]
  },
  {
   "cell_type": "code",
   "execution_count": 2,
   "metadata": {},
   "outputs": [
    {
     "name": "stdout",
     "output_type": "stream",
     "text": [
      "Title: not existing book\n",
      "Author: nope\n",
      "Annotation: nope\n",
      "PublishingYear: nope\n",
      "PublishingHouse: nope\n",
      "CountOfPages: 510\n",
      "\n",
      "\n",
      "Title: nope\n",
      "Author: nope\n",
      "Annotation: nope\n",
      "PublishingYear: nope\n",
      "PublishingHouse: nope\n",
      "CountOfPages: 570\n",
      "\n",
      "\n"
     ]
    }
   ],
   "source": [
    "book = {'Title':'One Hundred Years of Solitude',\n",
    "        'Author':'Gabriel García Márquez',\n",
    "        'Annotation':'One Hundred Years of Solitude is the story of seven generations of the Buendía Family in the town of Macondo. The founding patriarch of Macondo, José Arcadio Buendía, and Úrsula Iguarán, his wife (and first cousin), leave Riohacha, Colombia, after José Arcadio kills Prudencio Aguilar after a cockfight for suggesting José Arcadio was impotent. One night of their emigration journey, while camping on a riverbank, José Arcadio dreams of \"Macondo\", a city of mirrors that reflected the world in and about it. Upon awakening, he decides to establish Macondo at the riverside; after days of wandering the jungle, his founding of Macondo is utopic',\n",
    "        'PublishingYear':'1967',\n",
    "        'PublishingHouse':'Harper & Row',\n",
    "        'CountOfPages':'480'}\n",
    "books = [book]\n",
    "i = 0\n",
    "while i < 2:\n",
    "    tmp = {'Title': input('Title: '),\n",
    "           'Author': input('Author: '),\n",
    "           'Annotation': input('Annotation: '),\n",
    "           'PublishingYear': input('PublishingYear: '),\n",
    "           'PublishingHouse': input('PublishingHouse: '),\n",
    "           'CountOfPages': input('CountOfPages: ')}\n",
    "    books.append(tmp)\n",
    "    print('\\n')\n",
    "    i+=1"
   ]
  },
  {
   "cell_type": "code",
   "execution_count": 3,
   "metadata": {},
   "outputs": [
    {
     "name": "stdout",
     "output_type": "stream",
     "text": [
      "Title - not existing book\n",
      "Author - nope\n",
      "Annotation - nope\n",
      "PublishingYear - nope\n",
      "PublishingHouse - nope\n",
      "CountOfPages - 510\n",
      "\n",
      "\n",
      "Title - nope\n",
      "Author - nope\n",
      "Annotation - nope\n",
      "PublishingYear - nope\n",
      "PublishingHouse - nope\n",
      "CountOfPages - 570\n",
      "\n",
      "\n"
     ]
    }
   ],
   "source": [
    "for book in books:\n",
    "    if(int(book.get(\"CountOfPages\")) > 500):\n",
    "        for key,value in book.items():\n",
    "            print(key,'-',value)\n",
    "        print('\\n')\n",
    "        "
   ]
  },
  {
   "cell_type": "code",
   "execution_count": 4,
   "metadata": {},
   "outputs": [
    {
     "name": "stdout",
     "output_type": "stream",
     "text": [
      "Michael - IPhone  8 499 $\n",
      "Jake - IPhone  8 499 $\n",
      "Lary - IPhone  7 450 $\n"
     ]
    }
   ],
   "source": [
    "vendors = { \"Rebert\" : 6,\n",
    "                   \"George\" : 5,\n",
    "                   \"Jeremy\" : 5,\n",
    "                   \"Nancy\"  : 10,\n",
    "                   \"Andrew\" : 11,\n",
    "                   \"Michael\": 8,\n",
    "                   \"Alice\"  : 6,\n",
    "                   \"Mary\"   : 5,\n",
    "                   \"Lars\"   : 10,\n",
    "                   \"Jake\"   : 8,\n",
    "                   \"Lary\"   : 7}\n",
    "models = { 4 : 200,\n",
    "                  5 : 250,\n",
    "                  6 : 300,\n",
    "                  7 : 450,\n",
    "                  8 : 499,\n",
    "                  9 : 630,\n",
    "                 10 : 670,\n",
    "                 11 : 800}\n",
    "for key,value in vendors.items():\n",
    "    if models.get(value)  < 500 and value > 6 :\n",
    "        print(key, \"- IPhone \", value, models.get(value),\"$\")"
   ]
  },
  {
   "cell_type": "code",
   "execution_count": null,
   "metadata": {},
   "outputs": [],
   "source": []
  }
 ],
 "metadata": {
  "kernelspec": {
   "display_name": "Python 3",
   "language": "python",
   "name": "python3"
  },
  "language_info": {
   "codemirror_mode": {
    "name": "ipython",
    "version": 3
   },
   "file_extension": ".py",
   "mimetype": "text/x-python",
   "name": "python",
   "nbconvert_exporter": "python",
   "pygments_lexer": "ipython3",
   "version": "3.8.3"
  }
 },
 "nbformat": 4,
 "nbformat_minor": 4
}
